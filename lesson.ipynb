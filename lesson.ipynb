{
 "cells": [
  {
   "cell_type": "markdown",
   "metadata": {},
   "source": [
    "### Questions\n",
    "* None for now\n",
    "\n",
    "\n",
    "### Outline\n",
    "* take questions\n",
    "* mock up some data\n",
    "* begin exploring my data\n",
    "* create functions\n",
    "\n",
    "### Objectives\n",
    "YWBAT\n",
    "* create functions for repetitive tasks in python\n",
    "* learn how to pass arguments into functions\n",
    "* turn a process into a function\n",
    "\n",
    "\n",
    "### Helpful Tips\n",
    "* Talk while you code\n",
    "* Add comments\n",
    "* Create informative variable names\n",
    "* Create examples and work first"
   ]
  },
  {
   "cell_type": "markdown",
   "metadata": {},
   "source": [
    "# Question 1: Global Variables "
   ]
  },
  {
   "cell_type": "code",
   "execution_count": 17,
   "metadata": {},
   "outputs": [
    {
     "name": "stdout",
     "output_type": "stream",
     "text": [
      "5\n"
     ]
    }
   ],
   "source": [
    "x = 5 # lives in memory on jupyter kernel\n",
    "print(x)"
   ]
  },
  {
   "cell_type": "code",
   "execution_count": 27,
   "metadata": {},
   "outputs": [],
   "source": [
    "global x"
   ]
  },
  {
   "cell_type": "code",
   "execution_count": 28,
   "metadata": {},
   "outputs": [],
   "source": [
    "x = 12"
   ]
  },
  {
   "cell_type": "code",
   "execution_count": 31,
   "metadata": {},
   "outputs": [],
   "source": [
    "def f():\n",
    "    global x \n",
    "    x += 5\n",
    "    print(x)"
   ]
  },
  {
   "cell_type": "code",
   "execution_count": 32,
   "metadata": {},
   "outputs": [
    {
     "name": "stdout",
     "output_type": "stream",
     "text": [
      "17\n"
     ]
    }
   ],
   "source": [
    "f()"
   ]
  },
  {
   "cell_type": "markdown",
   "metadata": {},
   "source": [
    "# Mutability and Imutability \n",
    "### an object is mutable iff when changing the object the object can be changed in memory without overwriting the object"
   ]
  },
  {
   "cell_type": "code",
   "execution_count": 37,
   "metadata": {},
   "outputs": [],
   "source": [
    "lst1 = []"
   ]
  },
  {
   "cell_type": "code",
   "execution_count": 38,
   "metadata": {},
   "outputs": [
    {
     "data": {
      "text/plain": [
       "4452111304"
      ]
     },
     "execution_count": 38,
     "metadata": {},
     "output_type": "execute_result"
    }
   ],
   "source": [
    "id(lst1)"
   ]
  },
  {
   "cell_type": "code",
   "execution_count": 40,
   "metadata": {},
   "outputs": [
    {
     "data": {
      "text/plain": [
       "4452111304"
      ]
     },
     "execution_count": 40,
     "metadata": {},
     "output_type": "execute_result"
    }
   ],
   "source": [
    "lst1.append(14)\n",
    "id(lst1)"
   ]
  },
  {
   "cell_type": "code",
   "execution_count": 41,
   "metadata": {},
   "outputs": [
    {
     "data": {
      "text/plain": [
       "4468406088"
      ]
     },
     "execution_count": 41,
     "metadata": {},
     "output_type": "execute_result"
    }
   ],
   "source": [
    "s = set()\n",
    "id(s)"
   ]
  },
  {
   "cell_type": "code",
   "execution_count": 42,
   "metadata": {},
   "outputs": [
    {
     "data": {
      "text/plain": [
       "4468406088"
      ]
     },
     "execution_count": 42,
     "metadata": {},
     "output_type": "execute_result"
    }
   ],
   "source": [
    "s.add(4)\n",
    "id(s)"
   ]
  },
  {
   "cell_type": "markdown",
   "metadata": {},
   "source": [
    "# Or vs And"
   ]
  },
  {
   "cell_type": "code",
   "execution_count": 43,
   "metadata": {},
   "outputs": [],
   "source": [
    "v1 = True\n",
    "v2 = False\n",
    "v3 = True"
   ]
  },
  {
   "cell_type": "code",
   "execution_count": 44,
   "metadata": {},
   "outputs": [
    {
     "data": {
      "text/plain": [
       "True"
      ]
     },
     "execution_count": 44,
     "metadata": {},
     "output_type": "execute_result"
    }
   ],
   "source": [
    "# Or returns: v1 if v1 is true else v2\n",
    "\n",
    "v1 or v2"
   ]
  },
  {
   "cell_type": "code",
   "execution_count": 45,
   "metadata": {},
   "outputs": [
    {
     "data": {
      "text/plain": [
       "True"
      ]
     },
     "execution_count": 45,
     "metadata": {},
     "output_type": "execute_result"
    }
   ],
   "source": [
    "v2 or v1"
   ]
  },
  {
   "cell_type": "code",
   "execution_count": 46,
   "metadata": {},
   "outputs": [
    {
     "data": {
      "text/plain": [
       "144"
      ]
     },
     "execution_count": 46,
     "metadata": {},
     "output_type": "execute_result"
    }
   ],
   "source": [
    "v2 or 144"
   ]
  },
  {
   "cell_type": "code",
   "execution_count": 52,
   "metadata": {},
   "outputs": [
    {
     "data": {
      "text/plain": [
       "144"
      ]
     },
     "execution_count": 52,
     "metadata": {},
     "output_type": "execute_result"
    }
   ],
   "source": [
    "v2 or (144 or v2)\n",
    "# v2 is False\n",
    "# 144 -> Truthy"
   ]
  },
  {
   "cell_type": "code",
   "execution_count": 53,
   "metadata": {},
   "outputs": [
    {
     "data": {
      "text/plain": [
       "False"
      ]
     },
     "execution_count": 53,
     "metadata": {},
     "output_type": "execute_result"
    }
   ],
   "source": [
    "# and returns: v1 if v1 is false else v2\n",
    "\n",
    "v1 and v2"
   ]
  },
  {
   "cell_type": "code",
   "execution_count": 54,
   "metadata": {},
   "outputs": [
    {
     "data": {
      "text/plain": [
       "144"
      ]
     },
     "execution_count": 54,
     "metadata": {},
     "output_type": "execute_result"
    }
   ],
   "source": [
    "v1 and 144"
   ]
  },
  {
   "cell_type": "code",
   "execution_count": 55,
   "metadata": {},
   "outputs": [
    {
     "data": {
      "text/plain": [
       "144"
      ]
     },
     "execution_count": 55,
     "metadata": {},
     "output_type": "execute_result"
    }
   ],
   "source": [
    "# fun time!\n",
    "v1 = True\n",
    "v2 = False\n",
    "v3 = True\n",
    "\n",
    "\n",
    "v2 or (v1 and (v2 or 144))\n",
    "\n",
    "v2 or (v1 and 144)\n",
    "v2 or 144\n",
    "144"
   ]
  },
  {
   "cell_type": "markdown",
   "metadata": {},
   "source": [
    "# While loops"
   ]
  },
  {
   "cell_type": "code",
   "execution_count": 63,
   "metadata": {},
   "outputs": [
    {
     "name": "stdout",
     "output_type": "stream",
     "text": [
      "[1, 2, 4, 7, 14, 28]\n"
     ]
    }
   ],
   "source": [
    "# find the divisors of a number\n",
    "# 6 -> [1, 2, 3, 6]\n",
    "\n",
    "n = 28\n",
    "divisors = []\n",
    "d = 1\n",
    "while True:\n",
    "    if n%d==0:\n",
    "        divisors.append(d)\n",
    "    if d == n:\n",
    "        break\n",
    "    d += 1\n",
    "print(divisors)"
   ]
  },
  {
   "cell_type": "code",
   "execution_count": 57,
   "metadata": {},
   "outputs": [
    {
     "data": {
      "text/plain": [
       "0"
      ]
     },
     "execution_count": 57,
     "metadata": {},
     "output_type": "execute_result"
    }
   ],
   "source": [
    "while n > 1:\n",
    "    "
   ]
  },
  {
   "cell_type": "code",
   "execution_count": 80,
   "metadata": {},
   "outputs": [],
   "source": [
    "# \n",
    "grabbed = []\n",
    "names = ['blake', 'payson', 'thomas', 'ari', 'edward', 'erica', 'heather', 'jeremie']\n",
    "numbers = [1, 2, 3, 2, 3, 6, 3,2 ,3, 2, 3, 2, 1, 3, 2, 3, 2]\n",
    "letters = 'herearesomelettersthatiamtypingout'"
   ]
  },
  {
   "cell_type": "code",
   "execution_count": 81,
   "metadata": {},
   "outputs": [
    {
     "data": {
      "text/plain": [
       "[('blake', 1, 'h'),\n",
       " ('payson', 2, 'e'),\n",
       " ('thomas', 3, 'r'),\n",
       " ('ari', 2, 'e'),\n",
       " ('edward', 3, 'a'),\n",
       " ('erica', 6, 'r'),\n",
       " ('heather', 3, 'e')]"
      ]
     },
     "execution_count": 81,
     "metadata": {},
     "output_type": "execute_result"
    }
   ],
   "source": [
    "for nm, nu, l in zip(names, numbers, letters): # (blake, 1, h), (payson, 2, e), (thomas, 3, r), \n",
    "    if nm.startswith(\"b\") or nm.startswith(\"a\"): # True, False, False\n",
    "        tup = (nm, nu, l) # add to grabbed, -, -\n",
    "        grabbed.append(tup) \n",
    "    elif nu > 2: # -, False, True\n",
    "        tup = (nm, nu, l) # -, -, adds to grabbed, \n",
    "        grabbed.append(tup)\n",
    "    elif l in 'aeiou': # -, True\n",
    "        tup = (nm, nu, l) # -, add to grabbed\n",
    "        grabbed.append(tup) \n",
    "grabbed"
   ]
  },
  {
   "cell_type": "code",
   "execution_count": null,
   "metadata": {},
   "outputs": [],
   "source": []
  },
  {
   "cell_type": "code",
   "execution_count": null,
   "metadata": {},
   "outputs": [],
   "source": []
  },
  {
   "cell_type": "code",
   "execution_count": 23,
   "metadata": {},
   "outputs": [],
   "source": [
    "def f():\n",
    "    print(x)"
   ]
  },
  {
   "cell_type": "code",
   "execution_count": 24,
   "metadata": {},
   "outputs": [
    {
     "name": "stdout",
     "output_type": "stream",
     "text": [
      "12\n"
     ]
    }
   ],
   "source": [
    "f()"
   ]
  },
  {
   "cell_type": "code",
   "execution_count": null,
   "metadata": {},
   "outputs": [],
   "source": [
    "def g():\n",
    "    "
   ]
  },
  {
   "cell_type": "code",
   "execution_count": null,
   "metadata": {},
   "outputs": [],
   "source": []
  },
  {
   "cell_type": "code",
   "execution_count": null,
   "metadata": {},
   "outputs": [],
   "source": []
  },
  {
   "cell_type": "code",
   "execution_count": 30,
   "metadata": {},
   "outputs": [],
   "source": [
    "import numpy as np\n",
    "import pandas as pd\n",
    "\n",
    "from collections import Counter, defaultdict \n",
    "\n",
    "from sklearn.datasets import load_iris\n",
    "\n",
    "import matplotlib.pyplot as plt\n",
    "import seaborn as sns\n",
    "\n",
    "np.random.seed(42)"
   ]
  },
  {
   "cell_type": "markdown",
   "metadata": {},
   "source": [
    "### Let's mock up some data"
   ]
  },
  {
   "cell_type": "code",
   "execution_count": 16,
   "metadata": {},
   "outputs": [
    {
     "data": {
      "text/plain": [
       "array([102, 270, 106, ..., 233,  62, 195])"
      ]
     },
     "execution_count": 16,
     "metadata": {},
     "output_type": "execute_result"
    }
   ],
   "source": [
    "x = np.random.randint(0, 300, 10000)\n",
    "x"
   ]
  },
  {
   "cell_type": "code",
   "execution_count": 17,
   "metadata": {},
   "outputs": [
    {
     "data": {
      "text/plain": [
       "(149.0246, 149.0)"
      ]
     },
     "execution_count": 17,
     "metadata": {},
     "output_type": "execute_result"
    }
   ],
   "source": [
    "# calcualte the mean, median of our data\n",
    "\n",
    "np.mean(x), np.median(x)"
   ]
  },
  {
   "cell_type": "code",
   "execution_count": 18,
   "metadata": {},
   "outputs": [],
   "source": [
    "# how would I find the mean of x without numpy?\n",
    "def my_mean(x):\n",
    "    length = len(x)\n",
    "    summ = sum(x)\n",
    "    return summ/length"
   ]
  },
  {
   "cell_type": "code",
   "execution_count": 24,
   "metadata": {},
   "outputs": [
    {
     "data": {
      "text/plain": [
       "(149.0246, 149.0)"
      ]
     },
     "execution_count": 24,
     "metadata": {},
     "output_type": "execute_result"
    }
   ],
   "source": [
    "x_mean = my_mean(x)\n",
    "x_mean_rounded = round(x_mean)\n",
    "x_mean, x_mean_rounded"
   ]
  },
  {
   "cell_type": "code",
   "execution_count": 27,
   "metadata": {},
   "outputs": [
    {
     "data": {
      "text/plain": [
       "(149.0, 150.0, 149.0, 150.0)"
      ]
     },
     "execution_count": 27,
     "metadata": {},
     "output_type": "execute_result"
    }
   ],
   "source": [
    "# floor\n",
    "x_mean_floor = x_mean//1\n",
    "x_mean_ceiling = x_mean//1 + 1\n",
    "x_mean_floor, x_mean_ceiling, np.floor(x_mean), np.ceil(x_mean)"
   ]
  },
  {
   "cell_type": "code",
   "execution_count": 38,
   "metadata": {
    "scrolled": false
   },
   "outputs": [
    {
     "data": {
      "text/plain": [
       "270"
      ]
     },
     "execution_count": 38,
     "metadata": {},
     "output_type": "execute_result"
    }
   ],
   "source": [
    "# let's calculate mode\n",
    "\n",
    "# convert to list\n",
    "x_list = list(x)\n",
    "\n",
    "# creating variables but we need placeholders\n",
    "max_count = -10\n",
    "max_num = None\n",
    "\n",
    "for e in x_list: # e1, e2\n",
    "    count = x_list.count(e) # count(e1), count(e2)\n",
    "    if count > max_count: # count(e1) > -10, count(e2) > count(e1)\n",
    "        # set element to max_num \n",
    "        max_num = e  # max_num = e1\n",
    "        # update max_count\n",
    "        max_count = count # max_count = count(e1)\n",
    "        \n",
    "max_num"
   ]
  },
  {
   "cell_type": "code",
   "execution_count": 51,
   "metadata": {},
   "outputs": [],
   "source": [
    "def get_mode(x_list):\n",
    "    # convert to list if it isn't a list\n",
    "    if type(x_list) != list:\n",
    "        x_list = list(x_list)\n",
    "\n",
    "    # create a set of the numbers in our list\n",
    "    unique_nums = set(x_list)\n",
    "\n",
    "    # first find the max_count\n",
    "    max_count = -1\n",
    "\n",
    "    for n in unique_nums:\n",
    "        count = x_list.count(n)\n",
    "        if count > max_count:\n",
    "            max_count = count\n",
    "\n",
    "    # create mode list\n",
    "    modes = []\n",
    "\n",
    "    # second find all the numbers with a count of max_count\n",
    "    for n in unique_nums:\n",
    "        count = x_list.count(n)\n",
    "        if count == max_count:\n",
    "            modes.append(n)\n",
    "    return modes"
   ]
  },
  {
   "cell_type": "code",
   "execution_count": 52,
   "metadata": {},
   "outputs": [
    {
     "data": {
      "text/plain": [
       "[270]"
      ]
     },
     "execution_count": 52,
     "metadata": {},
     "output_type": "execute_result"
    }
   ],
   "source": [
    "get_mode(x)"
   ]
  },
  {
   "cell_type": "code",
   "execution_count": 53,
   "metadata": {},
   "outputs": [
    {
     "data": {
      "text/plain": [
       "[1, 3, 12]"
      ]
     },
     "execution_count": 53,
     "metadata": {},
     "output_type": "execute_result"
    }
   ],
   "source": [
    "get_mode([1, 1, 1, 3, 3, 3, 4, 5, 6, 12, 12, 12, 5, 10, 10])"
   ]
  },
  {
   "cell_type": "code",
   "execution_count": 77,
   "metadata": {},
   "outputs": [],
   "source": [
    "def get_median(x):\n",
    "    median = None\n",
    "    # sort our list\n",
    "    x_sorted = sorted(x)\n",
    "\n",
    "    # get length of list\n",
    "    x_length = len(x)\n",
    "\n",
    "    # if odd\n",
    "    if x_length%2==1:\n",
    "        index_of_median = x_length//2\n",
    "        median = x_sorted[index_of_median]\n",
    "\n",
    "    # if even\n",
    "    else:\n",
    "        index_of_upper_median = x_length//2\n",
    "        index_of_lower_median = index_of_upper_median-1\n",
    "        upper_med = x_sorted[index_of_upper_median]\n",
    "        lower_med = x_sorted[index_of_lower_median]\n",
    "        meds = [lower_med, upper_med]\n",
    "        median = my_mean(meds)\n",
    "    return median"
   ]
  },
  {
   "cell_type": "code",
   "execution_count": 78,
   "metadata": {},
   "outputs": [
    {
     "data": {
      "text/plain": [
       "(3.0, 10)"
      ]
     },
     "execution_count": 78,
     "metadata": {},
     "output_type": "execute_result"
    }
   ],
   "source": [
    "case_even = [1, 2, 4, 5] # 3\n",
    "case_odd = [1, 10, 20] # 10\n",
    "\n",
    "get_median(case_even), get_median(case_odd)"
   ]
  },
  {
   "cell_type": "code",
   "execution_count": 81,
   "metadata": {},
   "outputs": [],
   "source": [
    "### Matplotlib Stuff\n",
    "x = np.random.normal(0, 10, 10000)"
   ]
  },
  {
   "cell_type": "code",
   "execution_count": 115,
   "metadata": {},
   "outputs": [],
   "source": [
    "def plot_hist(x, figsize=(8, 5), color='purple', plot_grid=False):\n",
    "    plt.figure(figsize=figsize)\n",
    "    if plot_grid:\n",
    "        plt.grid(linestyle='dashed', zorder=0)\n",
    "    sns.distplot(x, bins=20, color=color, norm_hist=False)\n",
    "    plt.xlabel(\"data\")\n",
    "    plt.ylabel(\"PDF(data)\")\n",
    "    plt.title(\"PDF of Data\")\n",
    "    plt.show()"
   ]
  },
  {
   "cell_type": "code",
   "execution_count": 119,
   "metadata": {},
   "outputs": [
    {
     "data": {
      "image/png": "[encoded data removed]",
      "text/plain": [
       "<Figure size 576x360 with 1 Axes>"
      ]
     },
     "metadata": {
      "needs_background": "light"
     },
     "output_type": "display_data"
    }
   ],
   "source": [
    "plot_hist(x)"
   ]
  },
  {
   "cell_type": "markdown",
   "metadata": {},
   "source": [
    "### What have you learned/picked up? \n",
    "* nice to see the process (it's imperfect)\n",
    "* I am definitely working on coding cleaner. If nothing else, it helps me to not lose my place in the middle of longer functions.\n",
    "* how to use // to determine the middle element in a list\n",
    "* I am definitely working on coding cleaner. If nothing else, it helps me to not lose my place in the middle of longer functions.\n",
    "* I should start organizing better through comments\n",
    "* space everything out, leaving comments everywhere\n",
    "* I liked how you wrote a function that worked, then went back to make the code more readable, shorter, etc.. Made the logic simpler to read.\n",
    "* scaling down the problem with smaller examples\n",
    "* Good to have a habit of clean coding with an emphasis on readability.\n",
    "* Definitely some structure/style principles that need to be applied when I write code.\n",
    "* I learn that it is easier to write a function starting from an example and only indent (Tab) and make it a formal function at the end"
   ]
  },
  {
   "cell_type": "code",
   "execution_count": null,
   "metadata": {},
   "outputs": [],
   "source": []
  }
 ],
 "metadata": {
  "kernelspec": {
   "display_name": "Python [conda env:flatiron-env] *",
   "language": "python",
   "name": "conda-env-flatiron-env-py"
  },
  "language_info": {
   "codemirror_mode": {
    "name": "ipython",
    "version": 3
   },
   "file_extension": ".py",
   "mimetype": "text/x-python",
   "name": "python",
   "nbconvert_exporter": "python",
   "pygments_lexer": "ipython3",
   "version": "3.6.0"
  }
 },
 "nbformat": 4,
 "nbformat_minor": 2
}
